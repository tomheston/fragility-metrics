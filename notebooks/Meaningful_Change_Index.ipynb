{
  "nbformat": 4,
  "nbformat_minor": 0,
  "metadata": {
    "colab": {
      "provenance": [],
      "authorship_tag": "ABX9TyNLlqL7LJu/8PwXoBZxqsYf",
      "include_colab_link": true
    },
    "kernelspec": {
      "name": "python3",
      "display_name": "Python 3"
    },
    "language_info": {
      "name": "python"
    }
  },
  "cells": [
    {
      "cell_type": "markdown",
      "metadata": {
        "id": "view-in-github",
        "colab_type": "text"
      },
      "source": [
        "<a href=\"https://colab.research.google.com/github/tomheston/fragility-metrics/blob/main/notebooks/Meaningful_Change_Index.ipynb\" target=\"_parent\"><img src=\"https://colab.research.google.com/assets/colab-badge.svg\" alt=\"Open In Colab\"/></a>"
      ]
    },
    {
      "cell_type": "code",
      "execution_count": 6,
      "metadata": {
        "colab": {
          "base_uri": "https://localhost:8080/"
        },
        "id": "eByljy9Kj_ou",
        "outputId": "13501c9a-9961-4a4a-c73e-2b835e98a7fb"
      },
      "outputs": [
        {
          "output_type": "stream",
          "name": "stdout",
          "text": [
            "Enter group summary statistics (means and standard deviations).\n",
            "mean1: 32\n",
            "std1: 1.1\n",
            "mean2: 44\n",
            "std2: 7.8\n",
            "\n",
            "--- Meaningful Change Index (MeCI) ---\n",
            "crossover c = 33.483146\n",
            "numerator   = 1.483146   (min distance to c)\n",
            "denominator = 7.877182   (sqrt(s1^2 + s2^2))\n",
            "MeCI        = 0.188284\n",
            "Interpretation: High overlap, very fragile.\n",
            "  \n",
            "MeCI fragility categories:\n",
            " < 0.20 = High overlap, very fragile.\n",
            " < 0.50 = Moderate overlap, some fragility.\n",
            " <= 1.00 = Low overlap, reasonably robust.\n",
            " > 1.00 = Minimal overlap, strong separation.\n"
          ]
        }
      ],
      "source": [
        "# @title MeCI (Meaningful Change Index) — Colab-ready single cell\n",
        "# Definition: MeCI = min(|mean1 - c|, |mean2 - c|) / sqrt(s1^2 + s2^2)\n",
        "# where c = (s1*mean2 + s2*mean1) / (s1 + s2)\n",
        "# Source: FRAGILITY METRICS LOCKED IN DEFINITIONS v1.3 (2025-10-10)\n",
        "\n",
        "import math\n",
        "\n",
        "def compute_crossover(mean1: float, s1: float, mean2: float, s2: float) -> float:\n",
        "    if s1 <= 0 or s2 <= 0:\n",
        "        raise ValueError(\"Standard deviations must be > 0.\")\n",
        "    return (s1 * mean2 + s2 * mean1) / (s1 + s2)\n",
        "\n",
        "def compute_meci(mean1: float, s1: float, mean2: float, s2: float):\n",
        "    c = compute_crossover(mean1, s1, mean2, s2)\n",
        "    num = min(abs(mean1 - c), abs(mean2 - c))\n",
        "    den = math.sqrt(s1**2 + s2**2)\n",
        "    meci = num / den\n",
        "    return c, num, den, meci\n",
        "\n",
        "def interpret_meci(meci: float) -> str:\n",
        "    if meci < 0.20: return \"High overlap, very fragile.\"\n",
        "    if meci < 0.50: return \"Moderate overlap, some fragility.\"\n",
        "    if meci <= 1.00: return \"Low overlap, reasonably robust.\"\n",
        "    return \"Minimal overlap, strong separation.\"\n",
        "\n",
        "def prompt_float(label: str) -> float:\n",
        "    while True:\n",
        "        try:\n",
        "            return float(input(f\"{label}: \").strip())\n",
        "        except Exception as e:\n",
        "            print(f\"Invalid number. Try again. ({e})\")\n",
        "\n",
        "# --- Run interactively on cell execution ---\n",
        "print(\"Enter group summary statistics (means and standard deviations).\")\n",
        "m1 = prompt_float(\"mean1\")\n",
        "s1 = prompt_float(\"std1\")\n",
        "m2 = prompt_float(\"mean2\")\n",
        "s2 = prompt_float(\"std2\")\n",
        "\n",
        "try:\n",
        "    c, num, den, meci = compute_meci(m1, s1, m2, s2)\n",
        "    print(\"\\n--- Meaningful Change Index (MeCI) ---\")\n",
        "    print(f\"crossover c = {c:.6f}\")\n",
        "    print(f\"numerator   = {num:.6f}   (min distance to c)\")\n",
        "    print(f\"denominator = {den:.6f}   (sqrt(s1^2 + s2^2))\")\n",
        "    print(f\"MeCI        = {meci:.6f}\")\n",
        "    print(f\"Interpretation: {interpret_meci(meci)}\")\n",
        "    print(f\"  \")\n",
        "    print(f\"MeCI fragility categories:\")\n",
        "    print(f\" < 0.20 = High overlap, very fragile.\")\n",
        "    print(f\" < 0.50 = Moderate overlap, some fragility.\")\n",
        "    print(f\" <= 1.00 = Low overlap, reasonably robust.\")\n",
        "    print(f\" > 1.00 = Minimal overlap, strong separation.\")\n",
        "    if abs(s1 - s2) <= 1e-9:\n",
        "        d = (m1 - m2) / s1\n",
        "        print(f\"\\nEqual-variance note: Cohen's d = {d:.6f}; expected MeCI ≈ {abs(d)/(2*math.sqrt(2)):.6f}\")\n",
        "except Exception as e:\n",
        "    print(f\"\\nError: {e}\")\n"
      ]
    }
  ]
}